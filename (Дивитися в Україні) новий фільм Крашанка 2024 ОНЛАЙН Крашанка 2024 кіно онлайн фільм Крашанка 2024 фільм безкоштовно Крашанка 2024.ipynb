{
  "nbformat": 4,
  "nbformat_minor": 0,
  "metadata": {
    "colab": {
      "provenance": [],
      "authorship_tag": "ABX9TyPRQ/RGBsP1vqweHbc23Zpx",
      "include_colab_link": true
    },
    "kernelspec": {
      "name": "python3",
      "display_name": "Python 3"
    },
    "language_info": {
      "name": "python"
    }
  },
  "cells": [
    {
      "cell_type": "markdown",
      "metadata": {
        "id": "view-in-github",
        "colab_type": "text"
      },
      "source": [
        "<a href=\"https://colab.research.google.com/github/progulya/velika/blob/main/(%D0%94%D0%B8%D0%B2%D0%B8%D1%82%D0%B8%D1%81%D1%8F%20%D0%B2%20%D0%A3%D0%BA%D1%80%D0%B0%D1%97%D0%BD%D1%96)%20%D0%BD%D0%BE%D0%B2%D0%B8%D0%B9%20%D1%84%D1%96%D0%BB%D1%8C%D0%BC%20%D0%9A%D1%80%D0%B0%D1%88%D0%B0%D0%BD%D0%BA%D0%B0%202024%20%D0%9E%D0%9D%D0%9B%D0%90%D0%99%D0%9D%20%D0%9A%D1%80%D0%B0%D1%88%D0%B0%D0%BD%D0%BA%D0%B0%202024%20%D0%BA%D1%96%D0%BD%D0%BE%20%D0%BE%D0%BD%D0%BB%D0%B0%D0%B9%D0%BD%20%D1%84%D1%96%D0%BB%D1%8C%D0%BC%20%D0%9A%D1%80%D0%B0%D1%88%D0%B0%D0%BD%D0%BA%D0%B0%202024%20%D1%84%D1%96%D0%BB%D1%8C%D0%BC%20%D0%B1%D0%B5%D0%B7%D0%BA%D0%BE%D1%88%D1%82%D0%BE%D0%B2%D0%BD%D0%BE%20%D0%9A%D1%80%D0%B0%D1%88%D0%B0%D0%BD%D0%BA%D0%B0%202024.ipynb\" target=\"_parent\"><img src=\"https://colab.research.google.com/assets/colab-badge.svg\" alt=\"Open In Colab\"/></a>"
      ]
    },
    {
      "cell_type": "code",
      "execution_count": null,
      "metadata": {
        "id": "Y17S4lyRE4yf"
      },
      "outputs": [],
      "source": []
    },
    {
      "cell_type": "markdown",
      "source": [
        "Фильм Крашанка (2024) Смотреть онлайн\n",
        "<p><a href=\"https://y96c7ik.tr74.shop/o/CcLHUtJO5\" target=\"_blank\" rel=\"noopener noreferrer\"><img src=\"https://i.imgur.com/2skYgg1.gif?top-gun-maverick\" alt=\"Ver ONE PIECE FILM RED Online\" /></a></p>\n",
        "<p>&nbsp;</p>"
      ],
      "metadata": {
        "id": "ig5uibZcE-Oi"
      }
    }
  ]
}